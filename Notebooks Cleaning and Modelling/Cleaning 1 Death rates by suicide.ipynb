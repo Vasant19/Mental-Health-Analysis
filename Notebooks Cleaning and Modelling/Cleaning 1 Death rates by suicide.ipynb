{
 "cells": [
  {
   "cell_type": "code",
   "execution_count": null,
   "id": "c1d9ac8c",
   "metadata": {},
   "outputs": [],
   "source": [
    "import pandas as pd\n",
    "from sklearn.model_selection import train_test_split\n",
    "from sklearn.linear_model import LogisticRegression\n",
    "from sklearn.metrics import accuracy_score, classification_report, confusion_matrix\n",
    "import seaborn as sns\n",
    "from matplotlib import pyplot as plt\n",
    "%matplotlib inline"
   ]
  },
  {
   "cell_type": "code",
   "execution_count": null,
   "id": "32aa8810",
   "metadata": {},
   "outputs": [],
   "source": [
    "df = pd.read_csv('E:\\Downloads\\Death_rates_for_suicide__by_sex__race__Hispanic_origin__and_age__United_States.csv')"
   ]
  },
  {
   "cell_type": "code",
   "execution_count": null,
   "id": "3df59cbc",
   "metadata": {},
   "outputs": [],
   "source": [
    "df.head()"
   ]
  },
  {
   "cell_type": "code",
   "execution_count": null,
   "id": "7d4f518d",
   "metadata": {},
   "outputs": [],
   "source": [
    "df.describe()"
   ]
  },
  {
   "cell_type": "code",
   "execution_count": null,
   "id": "eeb4f4d0",
   "metadata": {},
   "outputs": [],
   "source": [
    "#sns.heatmap(df.corr());\n"
   ]
  },
  {
   "cell_type": "code",
   "execution_count": null,
   "id": "f81c411e",
   "metadata": {},
   "outputs": [],
   "source": [
    "#df_heatmap = df.pivot(\"Death rates for suicide\")\n",
    "#sns.heatmap(df_heatmap)"
   ]
  },
  {
   "cell_type": "code",
   "execution_count": null,
   "id": "224b3b7f",
   "metadata": {},
   "outputs": [],
   "source": [
    "df.info()\n",
    "#df['ESTIMATE'].unique()"
   ]
  },
  {
   "cell_type": "code",
   "execution_count": null,
   "id": "f8c0aafa",
   "metadata": {},
   "outputs": [],
   "source": [
    "df.drop(columns=['FLAG'], inplace=True)\n",
    "print(df)"
   ]
  },
  {
   "cell_type": "code",
   "execution_count": null,
   "id": "0b4b4ea6",
   "metadata": {},
   "outputs": [],
   "source": [
    "# Identify rows with missing values in the 'ESTIMATE' column\n",
    "rows_with_missing_values = df[df['ESTIMATE'].isnull()]\n",
    "\n",
    "# Print the rows with missing values in the 'ESTIMATE' column\n",
    "print(\"Rows with missing values in the 'ESTIMATE' column:\")\n",
    "print(rows_with_missing_values)\n"
   ]
  },
  {
   "cell_type": "code",
   "execution_count": null,
   "id": "bcdc0d12",
   "metadata": {},
   "outputs": [],
   "source": [
    "# Handling missing values\n",
    "for column in df.columns:\n",
    "    missing_values = df[column].isnull().sum()\n",
    "    if missing_values > 0:\n",
    "        print(f\"Handling {missing_values} missing values for column '{column}':\")\n",
    "        # Replace missing values with mean\n",
    "        df[column].fillna(df[column].mean(), inplace=True)"
   ]
  },
  {
   "cell_type": "code",
   "execution_count": null,
   "id": "6a247453",
   "metadata": {},
   "outputs": [],
   "source": [
    "#Check outliers for numeric columns\n",
    "sns.boxplot(df.ESTIMATE)\n",
    "plt.title('Boxplot for Column Estimate')\n",
    "plt.show()\n",
    "\n",
    "sns.boxplot(df.YEAR)\n",
    "plt.title('Boxplot for Column year')\n",
    "plt.show()"
   ]
  },
  {
   "cell_type": "code",
   "execution_count": null,
   "id": "8e8d4b23",
   "metadata": {},
   "outputs": [],
   "source": [
    "#Count plot for Checking character based columns\n",
    "\n",
    "categorical_columns = df[['STUB_NAME','AGE']]\n",
    "\n",
    "# Plot count plots for the categorical columns to visualize frequency distribution\n",
    "plt.figure(figsize=(15, 10))\n",
    "\n",
    "for i, col in enumerate(categorical_columns.columns):\n",
    "    plt.subplot(3, 1, i + 1)\n",
    "    sns.countplot(data=df, x=col)\n",
    "    plt.title(f'Count plot for {col}')\n",
    "    plt.xlabel('')  # Remove x-axis label for better readability\n",
    "    plt.ylabel('Frequency')  # Add y-axis label\n",
    "    plt.xticks(rotation=45)  # Rotate x-axis labels for better readability\n",
    "    plt.tight_layout()\n",
    "\n",
    "plt.show()\n"
   ]
  },
  {
   "cell_type": "code",
   "execution_count": null,
   "id": "7fde9599",
   "metadata": {},
   "outputs": [],
   "source": [
    "#Feature Engineer a new column gender for Data modelling\n",
    "import pandas as pd\n",
    "\n",
    "\n",
    "def categorize_gender(label):\n",
    "    if 'Male' in label:\n",
    "        return 'Male'\n",
    "    elif 'Female' in label:\n",
    "        return 'Female'\n",
    "    else:\n",
    "        return 'Other'\n",
    "\n",
    "# Create a new column 'Gender' based on gender information in 'STUB_LABEL' column\n",
    "df['Gender'] = df['STUB_LABEL'].apply(categorize_gender)\n",
    "\n",
    "# Display the DataFrame to verify the new column , also can type df.info() to check\n",
    "print(df)\n"
   ]
  },
  {
   "cell_type": "code",
   "execution_count": null,
   "id": "ac82a122",
   "metadata": {},
   "outputs": [],
   "source": [
    "#Export cleaned file \n",
    "# Save the cleaned dataset\n",
    "df.to_csv('Death_rates_by_suicide.csv', index=None)"
   ]
  }
 ],
 "metadata": {
  "kernelspec": {
   "display_name": "Python 3 (ipykernel)",
   "language": "python",
   "name": "python3"
  },
  "language_info": {
   "codemirror_mode": {
    "name": "ipython",
    "version": 3
   },
   "file_extension": ".py",
   "mimetype": "text/x-python",
   "name": "python",
   "nbconvert_exporter": "python",
   "pygments_lexer": "ipython3",
   "version": "3.11.5"
  }
 },
 "nbformat": 4,
 "nbformat_minor": 5
}
