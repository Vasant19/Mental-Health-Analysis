{
 "cells": [
  {
   "cell_type": "code",
   "execution_count": null,
   "id": "ad603f0c",
   "metadata": {},
   "outputs": [],
   "source": [
    "import pandas as pd\n",
    "from sklearn.model_selection import train_test_split\n",
    "from sklearn.linear_model import LogisticRegression\n",
    "from sklearn.metrics import accuracy_score, classification_report, confusion_matrix\n",
    "import seaborn as sns\n",
    "from matplotlib import pyplot as plt\n",
    "%matplotlib inline"
   ]
  },
  {
   "cell_type": "code",
   "execution_count": null,
   "id": "cc8d3ae5",
   "metadata": {},
   "outputs": [],
   "source": [
    "df = pd.read_csv('E:\\Downloads\\DV FINAL PROJECT\\Mental_Health_Care_in_the_Last_4_Weeks.csv')"
   ]
  },
  {
   "cell_type": "code",
   "execution_count": null,
   "id": "3c528b36",
   "metadata": {},
   "outputs": [],
   "source": [
    "df.info()"
   ]
  },
  {
   "cell_type": "code",
   "execution_count": null,
   "id": "a9b2e7c7",
   "metadata": {},
   "outputs": [],
   "source": [
    "df.tail(20)"
   ]
  },
  {
   "cell_type": "code",
   "execution_count": null,
   "id": "1e7f5e8d",
   "metadata": {},
   "outputs": [],
   "source": [
    "df.describe()"
   ]
  },
  {
   "cell_type": "code",
   "execution_count": null,
   "id": "d3273c91",
   "metadata": {},
   "outputs": [],
   "source": [
    "df.drop(columns=['Quartile Range'], inplace=True)\n",
    "df.drop(columns=['Confidence Interval'], inplace=True)\n",
    "df.drop(columns=['Suppression Flag'], inplace=True)\n",
    "print(df.head(5))"
   ]
  },
  {
   "cell_type": "code",
   "execution_count": null,
   "id": "e9716359",
   "metadata": {},
   "outputs": [],
   "source": [
    "# Check for missing values in each column\n",
    "missing_values = df.isnull().sum()\n",
    "print(\"Missing values in each column:\")\n",
    "print(missing_values)\n",
    "\n",
    "# Handling missing values\n",
    "numerical_columns = df.select_dtypes(include=['float64', 'int64']).columns\n",
    "for column in numerical_columns:\n",
    "    mean_value = df[column].mean()\n",
    "    df[column].fillna(mean_value, inplace=True)\n",
    "    \n",
    "\n",
    "print(\"\\nDataFrame after handling missing values:\")\n",
    "print(df.head(5))"
   ]
  },
  {
   "cell_type": "code",
   "execution_count": null,
   "id": "23c4d09a",
   "metadata": {},
   "outputs": [],
   "source": [
    "#Change column name and remove last 4 weeks phrase\n",
    "df['Indicator'] = df['Indicator'].str.replace(', Last 4 Weeks', '')\n",
    "\n",
    "# Display the first few rows to verify the changes\n",
    "print(df.head())\n"
   ]
  },
  {
   "cell_type": "code",
   "execution_count": null,
   "id": "5d1681ee",
   "metadata": {},
   "outputs": [],
   "source": [
    "# Select numerical columns\n",
    "numerical_columns = df.select_dtypes(include=['float64', 'int64'])\n",
    "\n",
    "# Plot box plots for numerical columns to visualize outliers\n",
    "plt.figure(figsize=(10, 6))\n",
    "sns.boxplot(data=numerical_columns)\n",
    "plt.xticks(rotation=45)  # Rotate x-axis labels for better readability\n",
    "plt.title('Box plots for numerical columns (check for outliers)')\n",
    "plt.show()\n"
   ]
  },
  {
   "cell_type": "code",
   "execution_count": null,
   "id": "6a1f5dde",
   "metadata": {},
   "outputs": [],
   "source": [
    "import warnings\n",
    "warnings.filterwarnings('ignore')\n",
    "\n",
    "# Select categorical columns\n",
    "categorical_columns = df[['Indicator', 'State', 'Group']]\n",
    "\n",
    "# Plot count plots for the categorical columns to visualize frequency distribution\n",
    "plt.figure(figsize=(15, 10))\n",
    "\n",
    "for i, col in enumerate(categorical_columns.columns):\n",
    "    plt.subplot(3, 1, i + 1)\n",
    "    sns.countplot(data=df, x=col)\n",
    "    plt.title(f'Count plot for {col}')\n",
    "    plt.xlabel('')  # Remove x-axis label for better readability\n",
    "    plt.ylabel('Frequency')  # Add y-axis label\n",
    "    plt.xticks(rotation=45)  # Rotate x-axis labels for better readability\n",
    "    plt.tight_layout()\n",
    "\n",
    "plt.show()\n"
   ]
  },
  {
   "cell_type": "code",
   "execution_count": null,
   "id": "625d9912",
   "metadata": {},
   "outputs": [],
   "source": [
    "#Changing datatype for column Time period start and end date to datetime\n",
    "#Making new column which Only has the YEAR without the months or days , for data modelling\n",
    "\n",
    "df['Time Period Start Date'] = pd.to_datetime(df['Time Period Start Date'])\n",
    "df['Time Period End Date'] = pd.to_datetime(df['Time Period End Date'])\n",
    "\n",
    "# Extract the year from the start date and end date\n",
    "df['Start Year'] = df['Time Period Start Date'].dt.year\n",
    "df['End Year'] = df['Time Period End Date'].dt.year\n",
    "\n",
    "# Create a new column 'Year' by combining the start and end years\n",
    "df['Year'] = df['Start Year']\n",
    "\n",
    "# Drop the intermediate columns \n",
    "df.drop(['Start Year', 'End Year'], axis=1, inplace=True)\n",
    "\n",
    "# Now df contains the 'Year' column with values like '2021-2022' indicating the period"
   ]
  },
  {
   "cell_type": "code",
   "execution_count": null,
   "id": "d75565b6",
   "metadata": {},
   "outputs": [],
   "source": [
    "#Save file\n",
    "df.to_csv('Mental_Health_Care.csv', index=None)"
   ]
  }
 ],
 "metadata": {
  "kernelspec": {
   "display_name": "Python 3 (ipykernel)",
   "language": "python",
   "name": "python3"
  },
  "language_info": {
   "codemirror_mode": {
    "name": "ipython",
    "version": 3
   },
   "file_extension": ".py",
   "mimetype": "text/x-python",
   "name": "python",
   "nbconvert_exporter": "python",
   "pygments_lexer": "ipython3",
   "version": "3.11.5"
  }
 },
 "nbformat": 4,
 "nbformat_minor": 5
}
