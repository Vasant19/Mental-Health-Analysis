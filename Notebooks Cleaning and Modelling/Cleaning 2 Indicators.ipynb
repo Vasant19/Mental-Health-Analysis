{
 "cells": [
  {
   "cell_type": "code",
   "execution_count": null,
   "id": "abb1945b",
   "metadata": {},
   "outputs": [],
   "source": [
    "import pandas as pd\n",
    "from sklearn.model_selection import train_test_split\n",
    "from sklearn.linear_model import LogisticRegression\n",
    "from sklearn.metrics import accuracy_score, classification_report, confusion_matrix\n",
    "import seaborn as sns\n",
    "from matplotlib import pyplot as plt\n",
    "%matplotlib inline"
   ]
  },
  {
   "cell_type": "code",
   "execution_count": null,
   "id": "5b4593e4",
   "metadata": {},
   "outputs": [],
   "source": [
    "df = pd.read_csv('E:\\Downloads\\Indicators_of_Anxiety_or_Depression_Based_on_Reported_Frequency_of_Symptoms_During_Last_7_Days.csv')"
   ]
  },
  {
   "cell_type": "code",
   "execution_count": null,
   "id": "588530fa",
   "metadata": {},
   "outputs": [],
   "source": [
    "df.info()"
   ]
  },
  {
   "cell_type": "code",
   "execution_count": null,
   "id": "24e9ffdb",
   "metadata": {},
   "outputs": [],
   "source": [
    "df.describe()"
   ]
  },
  {
   "cell_type": "code",
   "execution_count": null,
   "id": "4ec56b05",
   "metadata": {},
   "outputs": [],
   "source": [
    "df.drop(columns=['Quartile Range'], inplace=True)\n",
    "# Display the DataFrame after dropping the column\n",
    "print(df.head(5))"
   ]
  },
  {
   "cell_type": "code",
   "execution_count": null,
   "id": "32e725e0",
   "metadata": {},
   "outputs": [],
   "source": [
    "df.drop(columns=['Confidence Interval'], inplace=True)\n",
    "print(df.head(5))"
   ]
  },
  {
   "cell_type": "code",
   "execution_count": null,
   "id": "911a5045",
   "metadata": {},
   "outputs": [],
   "source": [
    "# Check for missing values in each column\n",
    "missing_values = df.isnull().sum()\n",
    "print(\"Missing values in each column:\")\n",
    "print(missing_values)\n",
    "\n",
    "# Handling missing values\n",
    "numerical_columns = df.select_dtypes(include=['float64', 'int64']).columns\n",
    "for column in numerical_columns:\n",
    "    mean_value = df[column].mean()\n",
    "    df[column].fillna(mean_value, inplace=True)\n",
    "    \n",
    "\n",
    "print(\"\\nDataFrame after handling missing values:\")\n",
    "print(df.head())\n"
   ]
  },
  {
   "cell_type": "code",
   "execution_count": null,
   "id": "2c096956",
   "metadata": {},
   "outputs": [],
   "source": [
    "# Select numerical columns\n",
    "numerical_columns = df.select_dtypes(include=['float64', 'int64'])\n",
    "\n",
    "# Plot box plots for numerical columns to visualize outliers\n",
    "plt.figure(figsize=(10, 6))\n",
    "sns.boxplot(data=numerical_columns)\n",
    "plt.xticks(rotation=45)  # Rotate x-axis labels for better readability\n",
    "plt.title('Box plots for numerical columns (check for outliers)')\n",
    "plt.show()"
   ]
  },
  {
   "cell_type": "code",
   "execution_count": null,
   "id": "e50a6f9c",
   "metadata": {},
   "outputs": [],
   "source": [
    "import warnings\n",
    "warnings.filterwarnings('ignore')\n",
    "\n",
    "# Select categorical columns\n",
    "categorical_columns = df[['Indicator', 'State', 'Group']]\n",
    "\n",
    "# Plot count plots for the categorical columns to visualize frequency distribution\n",
    "plt.figure(figsize=(15, 10))\n",
    "\n",
    "for i, col in enumerate(categorical_columns.columns):\n",
    "    plt.subplot(3, 1, i + 1)\n",
    "    sns.countplot(data=df, x=col)\n",
    "    plt.title(f'Count plot for {col}')\n",
    "    plt.xlabel('')  # Remove x-axis label for better readability\n",
    "    plt.ylabel('Frequency')  # Add y-axis label\n",
    "    plt.xticks(rotation=45)  # Rotate x-axis labels for better readability\n",
    "    plt.tight_layout()\n",
    "\n",
    "plt.show()"
   ]
  },
  {
   "cell_type": "code",
   "execution_count": null,
   "id": "c0bb7e4c",
   "metadata": {},
   "outputs": [],
   "source": [
    "df.to_csv('Indicators without FE.csv', index=None)"
   ]
  },
  {
   "cell_type": "markdown",
   "id": "a80b195c",
   "metadata": {},
   "source": [
    "# Feature engineering not done as not required for modelling"
   ]
  },
  {
   "cell_type": "markdown",
   "id": "b0d25ea5",
   "metadata": {},
   "source": [
    "#The Independent variables already have own labelled columns as to make predictions more accurate for the target dependent variable which would be indicator in my logistic regression model."
   ]
  }
 ],
 "metadata": {
  "kernelspec": {
   "display_name": "Python 3 (ipykernel)",
   "language": "python",
   "name": "python3"
  },
  "language_info": {
   "codemirror_mode": {
    "name": "ipython",
    "version": 3
   },
   "file_extension": ".py",
   "mimetype": "text/x-python",
   "name": "python",
   "nbconvert_exporter": "python",
   "pygments_lexer": "ipython3",
   "version": "3.11.5"
  }
 },
 "nbformat": 4,
 "nbformat_minor": 5
}
